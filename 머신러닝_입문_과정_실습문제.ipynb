{
  "nbformat": 4,
  "nbformat_minor": 0,
  "metadata": {
    "colab": {
      "provenance": [],
      "include_colab_link": true
    },
    "kernelspec": {
      "name": "python3",
      "display_name": "Python 3"
    },
    "language_info": {
      "name": "python"
    }
  },
  "cells": [
    {
      "cell_type": "markdown",
      "metadata": {
        "id": "view-in-github",
        "colab_type": "text"
      },
      "source": [
        "<a href=\"https://colab.research.google.com/github/byundonghwan/maching_learning_basic/blob/main/%EB%A8%B8%EC%8B%A0%EB%9F%AC%EB%8B%9D_%EC%9E%85%EB%AC%B8_%EA%B3%BC%EC%A0%95_%EC%8B%A4%EC%8A%B5%EB%AC%B8%EC%A0%9C.ipynb\" target=\"_parent\"><img src=\"https://colab.research.google.com/assets/colab-badge.svg\" alt=\"Open In Colab\"/></a>"
      ]
    },
    {
      "cell_type": "code",
      "execution_count": null,
      "metadata": {
        "id": "nJFbcYAYvB5I"
      },
      "outputs": [],
      "source": [
        "# 항공대학교-변동환"
      ]
    },
    {
      "cell_type": "code",
      "metadata": {
        "id": "rwUqtd4k16Eo"
      },
      "source": [
        "from matplotlib import pyplot as plt\n",
        "from matplotlib import rc\n",
        "\n",
        "%matplotlib inline"
      ],
      "execution_count": null,
      "outputs": []
    },
    {
      "cell_type": "code",
      "metadata": {
        "id": "z0cI1CVi2oEE"
      },
      "source": [
        "import warnings\n",
        "warnings.filterwarnings('ignore')"
      ],
      "execution_count": null,
      "outputs": []
    },
    {
      "cell_type": "markdown",
      "metadata": {
        "id": "4zHuYcSP2qn9"
      },
      "source": [
        "# Linear Regression with sigle variable"
      ]
    },
    {
      "cell_type": "markdown",
      "metadata": {
        "id": "77q8Hq6X3DUt"
      },
      "source": [
        "## 문제 1"
      ]
    },
    {
      "cell_type": "markdown",
      "metadata": {
        "id": "bQTtMts13Pa9"
      },
      "source": [
        "### 1.1\n",
        "회귀분석용 가상 데이터를 생성하는 명령어인 make_regression()을 사용하여 다음 조건을 충족하는 데이터를 생성하세요.\n",
        "그 다음 feature data와 target data를 각각 X, y 변수에 저장하세요.\n",
        "\n",
        "(조건)\n",
        "\n",
        "* 표본의 개수(n_samples) = 1000\n",
        "* 독립변수의 개수 (n_features) = 1\n",
        "* y절편 (bias) = 1000\n",
        "* 분포 (noise) = 50\n",
        "* 시드 넘버 (random_state = 100)\n"
      ]
    },
    {
      "cell_type": "code",
      "metadata": {
        "id": "bVLeTsPj2-my"
      },
      "source": [
        "from sklearn.datasets import make_regression\n",
        "\n",
        "X, y = make_regression(n_samples = 1000, n_features= 1, bias = 1000, noise = 50, random_state= 100)"
      ],
      "execution_count": null,
      "outputs": []
    },
    {
      "cell_type": "markdown",
      "metadata": {
        "id": "AwuKtE_mALYl"
      },
      "source": [
        "### 1.2\n",
        "\n",
        "X와 y의 타입과 형태를 각각 확인해보세요.\n",
        "\n",
        "(Tip)\n",
        "* 타입 확인에는 type()을 형태 확인에는 shape()을 사용하세요.\n",
        "    - a의 타입 확인: type(a), \n",
        "    - a의 형태 확인: a.shape()\n"
      ]
    },
    {
      "cell_type": "markdown",
      "metadata": {
        "id": "xaQuYwSDCAIg"
      },
      "source": [
        "(실행 결과)\n",
        "\n",
        "    X type: <class 'numpy.ndarray'>\n",
        "    X shape: (1000, 1)\n",
        "    --------------------------------------------------\n",
        "    y type: <class 'numpy.ndarray'>\n",
        "    y shape: (1000,)"
      ]
    },
    {
      "cell_type": "code",
      "metadata": {
        "id": "XThYWHnVB1lb",
        "colab": {
          "base_uri": "https://localhost:8080/"
        },
        "outputId": "0025f302-c677-4e4a-833a-3b5bb18ec9d0"
      },
      "source": [
        "print(type(X))\n",
        "print(X.shape)\n",
        "print(\"--------------------------------------------------------\")\n",
        "print(type(y))\n",
        "print(y.shape)"
      ],
      "execution_count": null,
      "outputs": [
        {
          "output_type": "stream",
          "name": "stdout",
          "text": [
            "<class 'numpy.ndarray'>\n",
            "(1000, 1)\n",
            "--------------------------------------------------------\n",
            "<class 'numpy.ndarray'>\n",
            "(1000,)\n"
          ]
        }
      ]
    },
    {
      "cell_type": "markdown",
      "metadata": {
        "id": "RO09fazn67bJ"
      },
      "source": [
        "### 1.3\n",
        "pandas 라이브러리의 DataFrame()을 사용하여 앞서 생성한 데이터를 데이터프레임으로 변환하고, random_df 변수에 저장하세요.\n",
        "\n",
        "random_df의 첫 5 샘플을 출력해보세요.\n",
        "\n",
        "(조건)\n",
        "* 칼럼 (columns) 제목은 각각 X_data, y_data로 지정하세요.\n",
        "\n",
        "(Tip)\n",
        "* DataFrame(데이터, columns=칼럼명)을 사용하세요.\n"
      ]
    },
    {
      "cell_type": "markdown",
      "metadata": {
        "id": "VreODaYeCqNf"
      },
      "source": [
        "(실행 결과)\n",
        "\n",
        "![image.png](data:image/png;base64,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)"
      ]
    },
    {
      "cell_type": "code",
      "metadata": {
        "id": "CDy8W2hi6VVb",
        "colab": {
          "base_uri": "https://localhost:8080/",
          "height": 206
        },
        "outputId": "250365a0-85c8-4a93-8e64-821586f6c682"
      },
      "source": [
        "import pandas as pd\n",
        "\n",
        "\n",
        "random_df = pd.DataFrame(X, columns=['X_data'])\n",
        "random_df['y_data'] = y\n",
        "random_df.head()"
      ],
      "execution_count": null,
      "outputs": [
        {
          "output_type": "execute_result",
          "data": {
            "text/plain": [
              "     X_data       y_data\n",
              "0  0.479696   999.972561\n",
              "1 -0.854673  1124.145755\n",
              "2 -1.003381  1018.230589\n",
              "3 -0.423715   963.454435\n",
              "4  1.328333  1021.298266"
            ],
            "text/html": [
              "\n",
              "  <div id=\"df-19efa1a5-f1f0-40e9-acba-05b58aba3ecb\">\n",
              "    <div class=\"colab-df-container\">\n",
              "      <div>\n",
              "<style scoped>\n",
              "    .dataframe tbody tr th:only-of-type {\n",
              "        vertical-align: middle;\n",
              "    }\n",
              "\n",
              "    .dataframe tbody tr th {\n",
              "        vertical-align: top;\n",
              "    }\n",
              "\n",
              "    .dataframe thead th {\n",
              "        text-align: right;\n",
              "    }\n",
              "</style>\n",
              "<table border=\"1\" class=\"dataframe\">\n",
              "  <thead>\n",
              "    <tr style=\"text-align: right;\">\n",
              "      <th></th>\n",
              "      <th>X_data</th>\n",
              "      <th>y_data</th>\n",
              "    </tr>\n",
              "  </thead>\n",
              "  <tbody>\n",
              "    <tr>\n",
              "      <th>0</th>\n",
              "      <td>0.479696</td>\n",
              "      <td>999.972561</td>\n",
              "    </tr>\n",
              "    <tr>\n",
              "      <th>1</th>\n",
              "      <td>-0.854673</td>\n",
              "      <td>1124.145755</td>\n",
              "    </tr>\n",
              "    <tr>\n",
              "      <th>2</th>\n",
              "      <td>-1.003381</td>\n",
              "      <td>1018.230589</td>\n",
              "    </tr>\n",
              "    <tr>\n",
              "      <th>3</th>\n",
              "      <td>-0.423715</td>\n",
              "      <td>963.454435</td>\n",
              "    </tr>\n",
              "    <tr>\n",
              "      <th>4</th>\n",
              "      <td>1.328333</td>\n",
              "      <td>1021.298266</td>\n",
              "    </tr>\n",
              "  </tbody>\n",
              "</table>\n",
              "</div>\n",
              "      <button class=\"colab-df-convert\" onclick=\"convertToInteractive('df-19efa1a5-f1f0-40e9-acba-05b58aba3ecb')\"\n",
              "              title=\"Convert this dataframe to an interactive table.\"\n",
              "              style=\"display:none;\">\n",
              "        \n",
              "  <svg xmlns=\"http://www.w3.org/2000/svg\" height=\"24px\"viewBox=\"0 0 24 24\"\n",
              "       width=\"24px\">\n",
              "    <path d=\"M0 0h24v24H0V0z\" fill=\"none\"/>\n",
              "    <path d=\"M18.56 5.44l.94 2.06.94-2.06 2.06-.94-2.06-.94-.94-2.06-.94 2.06-2.06.94zm-11 1L8.5 8.5l.94-2.06 2.06-.94-2.06-.94L8.5 2.5l-.94 2.06-2.06.94zm10 10l.94 2.06.94-2.06 2.06-.94-2.06-.94-.94-2.06-.94 2.06-2.06.94z\"/><path d=\"M17.41 7.96l-1.37-1.37c-.4-.4-.92-.59-1.43-.59-.52 0-1.04.2-1.43.59L10.3 9.45l-7.72 7.72c-.78.78-.78 2.05 0 2.83L4 21.41c.39.39.9.59 1.41.59.51 0 1.02-.2 1.41-.59l7.78-7.78 2.81-2.81c.8-.78.8-2.07 0-2.86zM5.41 20L4 18.59l7.72-7.72 1.47 1.35L5.41 20z\"/>\n",
              "  </svg>\n",
              "      </button>\n",
              "      \n",
              "  <style>\n",
              "    .colab-df-container {\n",
              "      display:flex;\n",
              "      flex-wrap:wrap;\n",
              "      gap: 12px;\n",
              "    }\n",
              "\n",
              "    .colab-df-convert {\n",
              "      background-color: #E8F0FE;\n",
              "      border: none;\n",
              "      border-radius: 50%;\n",
              "      cursor: pointer;\n",
              "      display: none;\n",
              "      fill: #1967D2;\n",
              "      height: 32px;\n",
              "      padding: 0 0 0 0;\n",
              "      width: 32px;\n",
              "    }\n",
              "\n",
              "    .colab-df-convert:hover {\n",
              "      background-color: #E2EBFA;\n",
              "      box-shadow: 0px 1px 2px rgba(60, 64, 67, 0.3), 0px 1px 3px 1px rgba(60, 64, 67, 0.15);\n",
              "      fill: #174EA6;\n",
              "    }\n",
              "\n",
              "    [theme=dark] .colab-df-convert {\n",
              "      background-color: #3B4455;\n",
              "      fill: #D2E3FC;\n",
              "    }\n",
              "\n",
              "    [theme=dark] .colab-df-convert:hover {\n",
              "      background-color: #434B5C;\n",
              "      box-shadow: 0px 1px 3px 1px rgba(0, 0, 0, 0.15);\n",
              "      filter: drop-shadow(0px 1px 2px rgba(0, 0, 0, 0.3));\n",
              "      fill: #FFFFFF;\n",
              "    }\n",
              "  </style>\n",
              "\n",
              "      <script>\n",
              "        const buttonEl =\n",
              "          document.querySelector('#df-19efa1a5-f1f0-40e9-acba-05b58aba3ecb button.colab-df-convert');\n",
              "        buttonEl.style.display =\n",
              "          google.colab.kernel.accessAllowed ? 'block' : 'none';\n",
              "\n",
              "        async function convertToInteractive(key) {\n",
              "          const element = document.querySelector('#df-19efa1a5-f1f0-40e9-acba-05b58aba3ecb');\n",
              "          const dataTable =\n",
              "            await google.colab.kernel.invokeFunction('convertToInteractive',\n",
              "                                                     [key], {});\n",
              "          if (!dataTable) return;\n",
              "\n",
              "          const docLinkHtml = 'Like what you see? Visit the ' +\n",
              "            '<a target=\"_blank\" href=https://colab.research.google.com/notebooks/data_table.ipynb>data table notebook</a>'\n",
              "            + ' to learn more about interactive tables.';\n",
              "          element.innerHTML = '';\n",
              "          dataTable['output_type'] = 'display_data';\n",
              "          await google.colab.output.renderOutput(dataTable, element);\n",
              "          const docLink = document.createElement('div');\n",
              "          docLink.innerHTML = docLinkHtml;\n",
              "          element.appendChild(docLink);\n",
              "        }\n",
              "      </script>\n",
              "    </div>\n",
              "  </div>\n",
              "  "
            ]
          },
          "metadata": {},
          "execution_count": 128
        }
      ]
    },
    {
      "cell_type": "markdown",
      "metadata": {
        "id": "TO9QE9qvD5uU"
      },
      "source": [
        "### 1.4\n",
        "\n",
        "matplotlib 라이브러리의 scatter()을 사용하여 산점도를 그려보세요.\n"
      ]
    },
    {
      "cell_type": "markdown",
      "metadata": {
        "id": "byYIwJR-E-0k"
      },
      "source": [
        "(실행 결과)\n",
        "\n",
        "![image.png](data:image/png;base64,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)"
      ]
    },
    {
      "cell_type": "code",
      "metadata": {
        "id": "BQnjjYyp_SIq",
        "colab": {
          "base_uri": "https://localhost:8080/",
          "height": 265
        },
        "outputId": "1c84dd14-8e97-4029-faa5-58012675e0e1"
      },
      "source": [
        "from matplotlib import pyplot as plt\n",
        "%matplotlib inline \n",
        "plt.scatter(X,y)\n",
        "plt.show()"
      ],
      "execution_count": null,
      "outputs": [
        {
          "output_type": "display_data",
          "data": {
            "text/plain": [
              "<Figure size 432x288 with 1 Axes>"
            ],
            "image/png": "[encoded data removed]"
          },
          "metadata": {
            "needs_background": "light"
          }
        }
      ]
    },
    {
      "cell_type": "markdown",
      "metadata": {
        "id": "Gl6iUKykFNG_"
      },
      "source": [
        "### 1.5\n",
        "\n",
        "데이터를 train_test_split()을 사용하여 다음 조건을 충족하는 훈련용, 검증용 데이터로 분리하세요. \n",
        "훈련용 데이터는 X_train, y_train, 검증용 데이터는 X_test, y_test 변수에 저장하세요. \n",
        "\n",
        "(조건)\n",
        "* shufftle = True\n",
        "* 전제 데이터 중 학습 데이터의 비율 (test_size) = 0.2\n",
        "* random_state = 100"
      ]
    },
    {
      "cell_type": "code",
      "metadata": {
        "id": "1Dz6HZBPEup2"
      },
      "source": [
        "from sklearn.model_selection import train_test_split\n",
        "X_train, X_test, y_train, y_test = train_test_split(X, y , test_size = 0.2, shuffle = True, random_state = 100)"
      ],
      "execution_count": null,
      "outputs": []
    },
    {
      "cell_type": "markdown",
      "metadata": {
        "id": "8BW310E_1ooH"
      },
      "source": [
        "### 1.6\n",
        "\n",
        "LinearRegression()을 사용하여 선형회귀 모델을 로드하고 hypothesis 변수에 저장하세요. \n"
      ]
    },
    {
      "cell_type": "code",
      "metadata": {
        "id": "YRbyBxuF1nbo"
      },
      "source": [
        "from sklearn.linear_model import LinearRegression\n",
        "hypothesis = LinearRegression()"
      ],
      "execution_count": null,
      "outputs": []
    },
    {
      "cell_type": "markdown",
      "metadata": {
        "id": "pR1-KWx-2ZU0"
      },
      "source": [
        "### 1.7\n",
        "\n",
        "fit() 명령어를 통해 학습 데이터로 앞서 로드한 모델을 학습시키세요.\n",
        "학습한 모델을 model_linear라는 변수에 대입하세요."
      ]
    },
    {
      "cell_type": "code",
      "metadata": {
        "id": "e_PhtRkd2Yop"
      },
      "source": [
        "model_linear = hypothesis.fit(X_train, y_train)"
      ],
      "execution_count": null,
      "outputs": []
    },
    {
      "cell_type": "markdown",
      "metadata": {
        "id": "U6yrinr13Aar"
      },
      "source": [
        "### 1.8\n",
        "model_linear의 계수(=weight)을 출력하세요.\n",
        "\n",
        "(Tip) \n",
        "* coef_에 계수가 저장되어 있어요."
      ]
    },
    {
      "cell_type": "markdown",
      "metadata": {
        "id": "k7Ca3V78-Nrd"
      },
      "source": [
        "(실행 결과)\n",
        "\n",
        "    array([6.78162406])"
      ]
    },
    {
      "cell_type": "code",
      "metadata": {
        "id": "1tSXxVZe3ADa",
        "colab": {
          "base_uri": "https://localhost:8080/"
        },
        "outputId": "24a83316-ec2c-4da7-9412-4d9de5f8e17a"
      },
      "source": [
        "model_linear.coef_"
      ],
      "execution_count": null,
      "outputs": [
        {
          "output_type": "execute_result",
          "data": {
            "text/plain": [
              "array([6.78162406])"
            ]
          },
          "metadata": {},
          "execution_count": 133
        }
      ]
    },
    {
      "cell_type": "markdown",
      "metadata": {
        "id": "7ozCBJRq8IyS"
      },
      "source": [
        "### 1.9\n",
        "\n",
        ".intercept_\n",
        "* model_linear의 bias를 출력하세요.\n",
        "\n",
        "(Tip)\n",
        "* itercept_에 bias가 저장되어 있어요."
      ]
    },
    {
      "cell_type": "markdown",
      "metadata": {
        "id": "pPlgzJ9g-Y8n"
      },
      "source": [
        "(실행 결과)\n",
        "\n",
        "    995.8131288981759\n"
      ]
    },
    {
      "cell_type": "code",
      "metadata": {
        "id": "DQwLYcLY8DWt",
        "colab": {
          "base_uri": "https://localhost:8080/"
        },
        "outputId": "391da2f6-3672-4cf0-8451-e88d290ee49a"
      },
      "source": [
        "model_linear.intercept_"
      ],
      "execution_count": null,
      "outputs": [
        {
          "output_type": "execute_result",
          "data": {
            "text/plain": [
              "995.8131288981759"
            ]
          },
          "metadata": {},
          "execution_count": 134
        }
      ]
    },
    {
      "cell_type": "markdown",
      "metadata": {
        "id": "7bgxehHVPJBH"
      },
      "source": [
        "# 문제 2"
      ]
    },
    {
      "cell_type": "markdown",
      "metadata": {
        "id": "vkCQ4W1ZLpFZ"
      },
      "source": [
        "## 2.1\n",
        "\n",
        "사이킷런에서 제공하는 iris 데이터셋을 load한 뒤 data와 target의 shape를 출력하세요.\n",
        "\n",
        ">조건\n",
        "\n",
        "- dataset_iris 라는 변수에 iris 데이터셋을 load하세요.\n",
        "- X 라는 변수에 dataset_iris의 data를 저장하세요.\n",
        "- y 라는 변수에 dataset_iris의 target을 저장하세요.\n",
        "\n",
        ">실행결과\n",
        "\n",
        "```\n",
        "data shape :\t  (150, 4)\n",
        "target shape :\t(150,)\n",
        "```\n",
        "\n",
        ">참고\n",
        "\n",
        "https://scikit-learn.org/stable/modules/generated/sklearn.datasets.load_iris"
      ]
    },
    {
      "cell_type": "code",
      "metadata": {
        "id": "mli9H7BccIJU",
        "colab": {
          "base_uri": "https://localhost:8080/"
        },
        "outputId": "f8fe805e-7c6f-44af-b2a6-bf6c372ac304"
      },
      "source": [
        "# 데이터를 load 하는 코드를 작성한 뒤, 빈칸을 작성하세요.\n",
        "from sklearn.datasets import load_iris\n",
        "\n",
        "dataset_iris = load_iris()\n",
        "X = dataset_iris['data']\n",
        "y = dataset_iris['target']\n",
        "\n",
        "\n",
        "print(f'data shape :\\t{X.shape}')\n",
        "print(f'target shape :\\t{y.shape}')"
      ],
      "execution_count": null,
      "outputs": [
        {
          "output_type": "stream",
          "name": "stdout",
          "text": [
            "data shape :\t(150, 4)\n",
            "target shape :\t(150,)\n"
          ]
        }
      ]
    },
    {
      "cell_type": "markdown",
      "metadata": {
        "id": "aPB0ODqWbvhb"
      },
      "source": [
        "## 2.2\n",
        "학습을 위해 StandardScaler를 사용하여 feature 간의 Scale을 조정하세요. 이후 조정된 값을 출력하세요.\n",
        "\n",
        ">조건\n",
        "\n",
        "- scaler라는 변수에 StandardScaler 객체를 생성하세요.\n",
        "- X 를 사용하여 scaler를 학습하세요.\n",
        "- X_scaled에 feature간 scale을 조정한 결과를 저장하세요.\n",
        "- X_scaled의 앞부분 10개만 출력하세요.\n",
        "\n",
        ">참고\n",
        "\n",
        "https://scikit-learn.org/stable/modules/generated/sklearn.preprocessing.StandardScaler.html\n",
        "\n",
        ">실행결과\n",
        "\n",
        "```\n",
        "array([[-0.90068117,  1.01900435, -1.34022653, -1.3154443 ],\n",
        "       [-1.14301691, -0.13197948, -1.34022653, -1.3154443 ],\n",
        "       [-1.38535265,  0.32841405, -1.39706395, -1.3154443 ],\n",
        "       [-1.50652052,  0.09821729, -1.2833891 , -1.3154443 ],\n",
        "       [-1.02184904,  1.24920112, -1.34022653, -1.3154443 ],\n",
        "       [-0.53717756,  1.93979142, -1.16971425, -1.05217993],\n",
        "       [-1.50652052,  0.78880759, -1.34022653, -1.18381211],\n",
        "       [-1.02184904,  0.78880759, -1.2833891 , -1.3154443 ],\n",
        "       [-1.74885626, -0.36217625, -1.34022653, -1.3154443 ],\n",
        "       [-1.14301691,  0.09821729, -1.2833891 , -1.44707648]])\n",
        "```"
      ]
    },
    {
      "cell_type": "code",
      "metadata": {
        "id": "aHg6AuE6cTUq",
        "colab": {
          "base_uri": "https://localhost:8080/"
        },
        "outputId": "c57f1820-3a84-4fdf-b3c9-7860884d5578"
      },
      "source": [
        "from sklearn.preprocessing import StandardScaler\n",
        "\n",
        "scaler = StandardScaler()\n",
        "scaler.fit(X)\n",
        "X_scaled = scaler.transform(X)\n",
        "print(X_scaled[:10])\n"
      ],
      "execution_count": null,
      "outputs": [
        {
          "output_type": "stream",
          "name": "stdout",
          "text": [
            "[[-0.90068117  1.01900435 -1.34022653 -1.3154443 ]\n",
            " [-1.14301691 -0.13197948 -1.34022653 -1.3154443 ]\n",
            " [-1.38535265  0.32841405 -1.39706395 -1.3154443 ]\n",
            " [-1.50652052  0.09821729 -1.2833891  -1.3154443 ]\n",
            " [-1.02184904  1.24920112 -1.34022653 -1.3154443 ]\n",
            " [-0.53717756  1.93979142 -1.16971425 -1.05217993]\n",
            " [-1.50652052  0.78880759 -1.34022653 -1.18381211]\n",
            " [-1.02184904  0.78880759 -1.2833891  -1.3154443 ]\n",
            " [-1.74885626 -0.36217625 -1.34022653 -1.3154443 ]\n",
            " [-1.14301691  0.09821729 -1.2833891  -1.44707648]]\n"
          ]
        }
      ]
    },
    {
      "cell_type": "markdown",
      "metadata": {
        "id": "bmAKMJwxcZnE"
      },
      "source": [
        "## 2.3\n",
        "model 이라는 변수에 PCA 모델을 생성 후 2개의 차원으로 X_scaled 를 축소하세요. 이후, 원본 데이터와 축소된 데이터의 형태를 출력하는 코드의 빈칸을 작성하세요.\n",
        "\n",
        ">조건\n",
        "\n",
        "- sklearn.decomposition의 PCA를 활용하세요.\n",
        "- 주성분 개수는 2개로 설정하세요.\n",
        "- 재현성을 위해 random_state 는 0으로 설정하세요.\n",
        "- 변환된 데이터는 X_pca 라는 변수에 저장하세요.\n",
        "\n",
        ">참고\n",
        "\n",
        "https://scikit-learn.org/stable/modules/generated/sklearn.decomposition.PCA.html\n",
        "\n",
        ">실행결과\n",
        "\n",
        "```\n",
        "원본 데이터 형태: (150, 4)\n",
        "축소된 데이터 형태: (150, 2)\n",
        "```\n"
      ]
    },
    {
      "cell_type": "code",
      "metadata": {
        "id": "JC8IJ8xKeGBw",
        "colab": {
          "base_uri": "https://localhost:8080/"
        },
        "outputId": "9e85d013-6ff9-4c4b-8ed0-85b6b02e0eeb"
      },
      "source": [
        "# 모델 생성 및 변환하는 코드를 작성한 후 빈칸을 작성하세요.\n",
        "from sklearn.decomposition import PCA\n",
        "\n",
        "pca = PCA(n_components=2,random_state = 0)\n",
        "pca.fit(X_scaled)\n",
        "X_pca = pca.transform(X_scaled)\n",
        "\n",
        "print(\"원본 데이터 형태:\", X_scaled.shape)\n",
        "print(\"축소된 데이터 형태:\", X_pca.shape)"
      ],
      "execution_count": null,
      "outputs": [
        {
          "output_type": "stream",
          "name": "stdout",
          "text": [
            "원본 데이터 형태: (150, 4)\n",
            "축소된 데이터 형태: (150, 2)\n"
          ]
        }
      ]
    }
  ]
}
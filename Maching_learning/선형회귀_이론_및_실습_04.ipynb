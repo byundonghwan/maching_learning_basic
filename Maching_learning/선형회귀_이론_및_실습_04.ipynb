{
  "nbformat": 4,
  "nbformat_minor": 0,
  "metadata": {
    "colab": {
      "provenance": [],
      "authorship_tag": "ABX9TyNdCQpyfeTR2/ponF9FIStn",
      "include_colab_link": true
    },
    "kernelspec": {
      "name": "python3",
      "display_name": "Python 3"
    },
    "language_info": {
      "name": "python"
    }
  },
  "cells": [
    {
      "cell_type": "markdown",
      "metadata": {
        "id": "view-in-github",
        "colab_type": "text"
      },
      "source": [
        "<a href=\"https://colab.research.google.com/github/byundonghwan/maching_learning_basic/blob/main/%EC%84%A0%ED%98%95%ED%9A%8C%EA%B7%80_%EC%9D%B4%EB%A1%A0_%EB%B0%8F_%EC%8B%A4%EC%8A%B5_04.ipynb\" target=\"_parent\"><img src=\"https://colab.research.google.com/assets/colab-badge.svg\" alt=\"Open In Colab\"/></a>"
      ]
    },
    {
      "cell_type": "code",
      "execution_count": 1,
      "metadata": {
        "id": "ykuEXq5tOV9U",
        "colab": {
          "base_uri": "https://localhost:8080/",
          "height": 265
        },
        "outputId": "046f979a-19d1-4b0e-b649-3bb1bc5426a9"
      },
      "outputs": [
        {
          "output_type": "display_data",
          "data": {
            "text/plain": [
              "<Figure size 432x288 with 1 Axes>"
            ],
            "image/png": "[encoded data removed]"
          },
          "metadata": {
            "needs_background": "light"
          }
        }
      ],
      "source": [
        "import matplotlib.pyplot as plt\n",
        "import numpy as np\n",
        "\n",
        "x = 2 * np.random.rand(100,1) # 0 ~ 1사이의 균일분포 => shape : 100 X 1 \n",
        "y = 4 + 3 * x + np.random.randn(100, 1) # normal 분포 mu = 0, var = 1 shape : 100 X 1 \n",
        "plt.scatter(x,y)\n",
        "plt.show()"
      ]
    },
    {
      "cell_type": "code",
      "source": [
        "x_b = np.c_[np.ones((100,1)),x] # 모든 샘플에 index 0번에 1을 추가.\n",
        "\n",
        "# np.linalg.inv는 넘파이 선형대수 모듈(linalg)의 inv(역함수)\n",
        "# .dot은 행렬 곱셈.\n",
        "\n",
        "theta_best = np.linalg.inv(x_b.T.dot(x_b)).dot(x_b.T).dot(y)\n",
        "theta_best"
      ],
      "metadata": {
        "colab": {
          "base_uri": "https://localhost:8080/"
        },
        "id": "AmbLyL1kY4_6",
        "outputId": "93616c76-d6c7-45a1-d63c-3229094f1b22"
      },
      "execution_count": 2,
      "outputs": [
        {
          "output_type": "execute_result",
          "data": {
            "text/plain": [
              "array([[3.86288067],\n",
              "       [3.07111742]])"
            ]
          },
          "metadata": {},
          "execution_count": 2
        }
      ]
    },
    {
      "cell_type": "code",
      "source": [
        "# theta_best를 사용해서 y 값 예측.\n",
        "x_new = np.array([[0],[2]])\n",
        "x_new_b = np.c_[np.ones((2,1)), x_new]\n",
        "\n",
        "# y = wx\n",
        "prediction = x_new_b.dot(theta_best)\n",
        "\n",
        "plt.plot(x_new, prediction, \"r-\")\n",
        "plt.plot(x, y, 'b.')\n",
        "plt.axis([0, 2, 0, 15]) # x축 범위 0 ~ 2, y축 범위 0 ~ 15\n",
        "plt.show()"
      ],
      "metadata": {
        "colab": {
          "base_uri": "https://localhost:8080/",
          "height": 265
        },
        "id": "QGKasOqXaoMR",
        "outputId": "285b3a60-909c-4c90-cba7-f6c4dc0c20ab"
      },
      "execution_count": 3,
      "outputs": [
        {
          "output_type": "display_data",
          "data": {
            "text/plain": [
              "<Figure size 432x288 with 1 Axes>"
            ],
            "image/png": "[encoded data removed]"
          },
          "metadata": {
            "needs_background": "light"
          }
        }
      ]
    },
    {
      "cell_type": "code",
      "source": [
        "# 위의 작업을 사이킷런 라이브러리를 사용하여 구현.\n",
        "from sklearn.linear_model import LinearRegression\n",
        "lin_reg = LinearRegression()\n",
        "lin_reg.fit(x,y)\n",
        "print(lin_reg.intercept_, lin_reg.coef_)\n",
        "print(lin_reg.predict(x_new))"
      ],
      "metadata": {
        "colab": {
          "base_uri": "https://localhost:8080/"
        },
        "id": "Lzk06I2abv00",
        "outputId": "c90d0ed7-81c9-452b-c81b-c993d0cb57dc"
      },
      "execution_count": 4,
      "outputs": [
        {
          "output_type": "stream",
          "name": "stdout",
          "text": [
            "[3.86288067] [[3.07111742]]\n",
            "[[ 3.86288067]\n",
            " [10.0051155 ]]\n"
          ]
        }
      ]
    },
    {
      "cell_type": "code",
      "source": [
        "# 경사하강법 구현 (implementation)\n",
        "import numpy as np\n",
        "\n",
        "x = 2 * np.random.rand(100, 1) # 100 X 1\n",
        "x_b = np.c_[np.ones((100, 1)), x]\n",
        "y = 4 + 3 * np.random.randn(100, 1)\n",
        "\n",
        "learning_rate = 0.001\n",
        "iterations = 1000\n",
        "m = x_b.shape[0] # x의 데이터 수\n",
        "\n",
        "theta = np.random.randn(2, 1)\n",
        "\n",
        "for iteration in range(iterations):\n",
        "  gradients = 2/m*x_b.T.dot(x_b.dot(theta) - y)\n",
        "  theta = theta - (learning_rate * gradients)\n",
        "\n",
        "theta\n"
      ],
      "metadata": {
        "colab": {
          "base_uri": "https://localhost:8080/"
        },
        "id": "wAOxPyGaX54c",
        "outputId": "ca26c504-bd81-4831-847e-4231892b7bc0"
      },
      "execution_count": 5,
      "outputs": [
        {
          "output_type": "execute_result",
          "data": {
            "text/plain": [
              "array([[2.71841701],\n",
              "       [1.23525063]])"
            ]
          },
          "metadata": {},
          "execution_count": 5
        }
      ]
    },
    {
      "cell_type": "code",
      "source": [
        "# 확률적 경사 하강법 구현 (implementation)\n",
        "epochs = 1000\n",
        "t0, t1 = 5, 50 # 학습 스케줄(하이퍼 파라미터)\n",
        "m = x_b.shape[0] # 100개 (x 데이터)\n",
        "\n",
        "def learning_schedule(t):\n",
        "  return t0 / (t+t1)\n",
        "\n",
        "theta = np.random.randn(2, 1) # 2x1 크기의 평균 0, 분산 1 정규 분포 추출.\n",
        "\n",
        "for epoch in range(epochs):\n",
        "  for i in range(m):\n",
        "    random_index = np.random.randint(m) # 0 ~ m-1 까지 랜덤 숫자 1\n",
        "    xi = x_b[random_index : random_index + 1] # 1 x 2 크기\n",
        "    yi = y[random_index : random_index + 1] # 1 x 1 크기\n",
        "    gradients = 2 * xi.T.dot(xi.dot(theta) - yi) \n",
        "    learning_rate = learning_schedule(epoch*m + i)\n",
        "    theta = theta - learning_rate * gradients\n",
        "\n",
        "theta"
      ],
      "metadata": {
        "colab": {
          "base_uri": "https://localhost:8080/"
        },
        "id": "4lULcj2ld8ch",
        "outputId": "a8095d2d-6466-4bf9-f1a8-8bf1e2c9c8f2"
      },
      "execution_count": 6,
      "outputs": [
        {
          "output_type": "execute_result",
          "data": {
            "text/plain": [
              "array([[4.13913275],\n",
              "       [0.12855737]])"
            ]
          },
          "metadata": {},
          "execution_count": 6
        }
      ]
    }
  ]
}

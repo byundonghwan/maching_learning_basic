{
  "nbformat": 4,
  "nbformat_minor": 0,
  "metadata": {
    "colab": {
      "provenance": [],
      "authorship_tag": "ABX9TyNFteqVnnod5gZpnENyjYub",
      "include_colab_link": true
    },
    "kernelspec": {
      "name": "python3",
      "display_name": "Python 3"
    },
    "language_info": {
      "name": "python"
    }
  },
  "cells": [
    {
      "cell_type": "markdown",
      "metadata": {
        "id": "view-in-github",
        "colab_type": "text"
      },
      "source": [
        "<a href=\"https://colab.research.google.com/github/byundonghwan/maching_learning_basic/blob/main/%EC%84%A0%ED%98%95_%EB%B6%84%EB%A5%98_%EC%9D%B4%EB%A1%A0_%EB%B0%8F_%EC%8B%A4%EC%8A%B5_05.ipynb\" target=\"_parent\"><img src=\"https://colab.research.google.com/assets/colab-badge.svg\" alt=\"Open In Colab\"/></a>"
      ]
    },
    {
      "cell_type": "code",
      "execution_count": 1,
      "metadata": {
        "colab": {
          "base_uri": "https://localhost:8080/"
        },
        "id": "a5zZYtPeWQbC",
        "outputId": "e88ba312-d13c-4d54-b821-4696dae1cc44"
      },
      "outputs": [
        {
          "output_type": "stream",
          "name": "stdout",
          "text": [
            "['data', 'target', 'frame', 'target_names', 'DESCR', 'feature_names', 'filename', 'data_module']\n"
          ]
        }
      ],
      "source": [
        "from sklearn import datasets\n",
        "iris = datasets.load_iris() # sklearn의 빌트인 iris 예제 \n",
        "print(list(iris.keys())) # iris 데이터 key 값"
      ]
    },
    {
      "cell_type": "code",
      "source": [
        "x = iris['data'][:, 3:] # 꽃입의 너비 변수만 사용.\n",
        "y = (iris['target'] == 2).astype('int') # index = 2 \" versinica만 사용.\"\n",
        "\n",
        "from sklearn.linear_model import LogisticRegression\n",
        "log_reg = LogisticRegression()\n",
        "log_reg.fit(x,y)"
      ],
      "metadata": {
        "colab": {
          "base_uri": "https://localhost:8080/"
        },
        "id": "awSm7ymLWrUV",
        "outputId": "f1464dd3-b87e-4a9e-c8b5-e30f47617e67"
      },
      "execution_count": 2,
      "outputs": [
        {
          "output_type": "execute_result",
          "data": {
            "text/plain": [
              "LogisticRegression()"
            ]
          },
          "metadata": {},
          "execution_count": 2
        }
      ]
    },
    {
      "cell_type": "code",
      "source": [
        "import numpy as np\n",
        "import matplotlib.pyplot as plt\n",
        "\n",
        "x_new = np.linspace(0, 3, 1000).reshape(-1, 1)\n",
        "x_new.shape"
      ],
      "metadata": {
        "colab": {
          "base_uri": "https://localhost:8080/"
        },
        "id": "iX_ztAhvXwL7",
        "outputId": "349301a4-c8b7-46ed-c025-206319cccefd"
      },
      "execution_count": 3,
      "outputs": [
        {
          "output_type": "execute_result",
          "data": {
            "text/plain": [
              "(1000, 1)"
            ]
          },
          "metadata": {},
          "execution_count": 3
        }
      ]
    },
    {
      "cell_type": "code",
      "source": [
        "# 로지스틱 회기 예측.\n",
        "y_proba = log_reg.predict_proba(x_new)\n",
        "y_proba # 첫 번쨰 col는 versocolor일 확률, 두 번째 col는 versinicar가 아닌 확률.\n",
        "plt.plot(x_new, y_proba[:, 1], 'r-', label = 'iris-versocolor')\n",
        "plt.plot(x_new, y_proba[:, 0], 'b--', label = 'iris-versocolor')\n",
        "plt.legend()\n",
        "plt.show()"
      ],
      "metadata": {
        "colab": {
          "base_uri": "https://localhost:8080/",
          "height": 265
        },
        "id": "4Sezou-mYF8M",
        "outputId": "d3526555-fbfb-4b70-deff-2592d77601cb"
      },
      "execution_count": 4,
      "outputs": [
        {
          "output_type": "display_data",
          "data": {
            "text/plain": [
              "<Figure size 432x288 with 1 Axes>"
            ],
            "image/png": "[encoded data removed]"
          },
          "metadata": {
            "needs_background": "light"
          }
        }
      ]
    },
    {
      "cell_type": "code",
      "source": [
        "# 소프트 맥스 회귀\n",
        "x = iris['data'][:, (2,3)] # 꽃잎의 길이, 너비 변수를 사용\n",
        "y = iris['target'] # 3개 모든 클래스 사용.=> 각 클래스별 추정 확률 값이 가장 높은 클래스를 활용.\n",
        "\n",
        "# C => L2 규제화를 뜻함, 릿지 규제 사용.\n",
        "softmax_reg = LogisticRegression(multi_class = 'multinomial', solver = 'lbfgs' ,C = 10, random_state = 2021)\n",
        "softmax_reg.fit(x, y)"
      ],
      "metadata": {
        "colab": {
          "base_uri": "https://localhost:8080/"
        },
        "id": "4W--MGJ2bjmH",
        "outputId": "b6586efd-7f3c-4964-cf83-b51acfeaee4f"
      },
      "execution_count": 5,
      "outputs": [
        {
          "output_type": "execute_result",
          "data": {
            "text/plain": [
              "LogisticRegression(C=10, multi_class='multinomial', random_state=2021)"
            ]
          },
          "metadata": {},
          "execution_count": 5
        }
      ]
    },
    {
      "cell_type": "code",
      "source": [
        "# 예측.\n",
        "new_iris = [[5,2]] # 꽃잎 길이 변수 = 5, 너비 변수 = 2 데이터를 예측한다고 가정.\n",
        "\n",
        "# 가장 큰 index를 반환하는 것 predict() 메소드, 모든 확률을 다 제공해주는 것 predict_proba()메소드. \n",
        "prediction = softmax_reg.predict(new_iris)[0]\n",
        "label = iris['target_names'].tolist()\n",
        "print(label[prediction]) # 예측 결과 "
      ],
      "metadata": {
        "colab": {
          "base_uri": "https://localhost:8080/"
        },
        "id": "njzwjKGLdPmQ",
        "outputId": "b9602cbf-2441-4921-d7e3-39ae7de483f2"
      },
      "execution_count": 6,
      "outputs": [
        {
          "output_type": "stream",
          "name": "stdout",
          "text": [
            "virginica\n"
          ]
        }
      ]
    },
    {
      "cell_type": "code",
      "source": [
        "# 서포트 벡터 SVM 선형 모델 예측.\n",
        "import numpy as np\n",
        "from sklearn import datasets\n",
        "from sklearn.pipeline import Pipeline\n",
        "from sklearn.preprocessing import StandardScaler\n",
        "from sklearn.svm import LinearSVC\n",
        "\n",
        "iris = datasets.load_iris() # 사이킷런 빌트인 iris 예제 데이터 로드\n",
        "x = iris['data'][:, (2, 3)] # 꽃잎의 길이, 너비 변수 사용\n",
        "y = (iris['target'] == 2).astype('int') # index = 2 : Versinica\n",
        "\n",
        "# 사이킷런의 파이프라인 라이브러리를 통해서 데이터 스케일과 모델 적합을 한번에 처리.\n",
        "svm_clf = Pipeline([\n",
        "    ('scaler', StandardScaler()),\n",
        "    ('linear_svc', LinearSVC(C=1, loss= 'hinge'))\n",
        "])\n",
        "\n",
        "# 모델 훈련\n",
        "svm_clf.fit(x, y)\n",
        "\n",
        "# 꽃잎 길이 5.5cm, 너비 1.7cm의 iris 데이터를 예측한다고 가정.\n",
        "new_iris = [[5.5, 1.7]]\n",
        "prediction = svm_clf.predict(new_iris)[0]\n",
        "print(prediction) # Versinica : True(1)"
      ],
      "metadata": {
        "id": "yVgnznNXeGYO",
        "colab": {
          "base_uri": "https://localhost:8080/"
        },
        "outputId": "f9264d2c-00f6-4bc3-a92a-779261e41b7e"
      },
      "execution_count": 7,
      "outputs": [
        {
          "output_type": "stream",
          "name": "stdout",
          "text": [
            "1\n"
          ]
        }
      ]
    },
    {
      "cell_type": "code",
      "source": [
        "import matplotlib.pyplot as plt\n",
        "x = np.linspace(-3, 3, 10)\n",
        "y = np.linspace(1, 1, 10)\n",
        "plt.scatter(x, y)\n",
        "plt.grid()\n",
        "plt.show()\n",
        "\n",
        "b_func = x**2\n",
        "plt.scatter(x, b_func)\n",
        "plt.grid()\n",
        "plt.show()"
      ],
      "metadata": {
        "colab": {
          "base_uri": "https://localhost:8080/",
          "height": 513
        },
        "id": "HGU7U7PTfD8j",
        "outputId": "3d328753-0d2b-48a3-e172-86431b20a249"
      },
      "execution_count": 8,
      "outputs": [
        {
          "output_type": "display_data",
          "data": {
            "text/plain": [
              "<Figure size 432x288 with 1 Axes>"
            ],
            "image/png": "[encoded data removed]"
          },
          "metadata": {
            "needs_background": "light"
          }
        },
        {
          "output_type": "display_data",
          "data": {
            "text/plain": [
              "<Figure size 432x288 with 1 Axes>"
            ],
            "image/png": "[encoded data removed]"
          },
          "metadata": {
            "needs_background": "light"
          }
        }
      ]
    },
    {
      "cell_type": "code",
      "source": [
        "# 서포트 벡터 SVM 비선형 모델 예측.\n",
        "from sklearn.datasets import make_moons\n",
        "from sklearn.pipeline import Pipeline\n",
        "from sklearn.preprocessing import PolynomialFeatures\n",
        "from sklearn.svm import LinearSVC\n",
        "\n",
        "# 샘플 수 1000개, noise값 0.1, random_State = 2021\n",
        "x, y = make_moons(n_samples = 1000, noise = 0.1, random_state = 2021)\n",
        "\n",
        "# 변수변환 : polynomial 3차 다항식 사용, scaler : StandardScaler 사용, 모델 : LinearSvm(c=10, loss = 'hinge) 사용\n",
        "polynomial_std_svm = Pipeline([\n",
        "    (\"polynomial\", PolynomialFeatures(degree = 3)),\n",
        "    (\"std\", StandardScaler()),\n",
        "    (\"svm\", LinearSVC(C = 10, loss = 'hinge'))\n",
        "])\n",
        "\n",
        "# 모델 학습\n",
        "polynomial_std_svm.fit(x, y)\n",
        "\n",
        "# 첫 번쨰 변수값 : 2.0, 두 번쨰 변수값: 1.0인 새로운 데이터 예측\n",
        "new_moon = [[2.0, 1.0]]\n",
        "polynomial_std_svm.predict(new_moon)\n"
      ],
      "metadata": {
        "id": "aioZZk5DhzsE",
        "colab": {
          "base_uri": "https://localhost:8080/"
        },
        "outputId": "ed9913a5-13c5-4cea-f3de-61dc50b55678"
      },
      "execution_count": 9,
      "outputs": [
        {
          "output_type": "stream",
          "name": "stderr",
          "text": [
            "/usr/local/lib/python3.8/dist-packages/sklearn/svm/_base.py:1206: ConvergenceWarning: Liblinear failed to converge, increase the number of iterations.\n",
            "  warnings.warn(\n"
          ]
        },
        {
          "output_type": "execute_result",
          "data": {
            "text/plain": [
              "array([1])"
            ]
          },
          "metadata": {},
          "execution_count": 9
        }
      ]
    },
    {
      "cell_type": "code",
      "source": [
        "# 서포트 벡터 SVM 다항식 커널 사용.\n",
        "from sklearn.svm import SVC\n",
        "# kernel = 'poly(degree = 3)' 사용\n",
        "# 매개변수 coef0는 모델이 높은 차수와 낮은 차수에 얼마나 영향을 받을지 조절하는 것\n",
        "# coef0을 적절한 값으로 지정하면 고차항의 영향을 줄일 수 있다.\n",
        "\n",
        "poly_kernel_std_svm = Pipeline([\n",
        "    (\"std\", StandardScaler()),\n",
        "    (\"poly_kernel_svm\", SVC(kernel = 'poly', degree = 3, coef0 = 1, C = 5))\n",
        "])\n",
        "poly_kernel_std_svm.fit(x, y)"
      ],
      "metadata": {
        "id": "dnIrj90GnrFi",
        "colab": {
          "base_uri": "https://localhost:8080/"
        },
        "outputId": "d4097a8e-dcb9-40f2-9209-f3576f4c6853"
      },
      "execution_count": 10,
      "outputs": [
        {
          "output_type": "execute_result",
          "data": {
            "text/plain": [
              "Pipeline(steps=[('std', StandardScaler()),\n",
              "                ('poly_kernel_svm', SVC(C=5, coef0=1, kernel='poly'))])"
            ]
          },
          "metadata": {},
          "execution_count": 10
        }
      ]
    },
    {
      "cell_type": "code",
      "source": [
        "# 서포트 벡터 가우시안 RBF 커널 사용.\n",
        "\n",
        "# 하이퍼파라미터 r는 규제 역할을 한다.\n",
        "# (모델이 과적합일 경우 => r 감소시키고, 모델 과소적합일 경우 => r 증가시켜야함.)\n",
        "# 하이퍼파라미터 C도 r(gamma)와 비슷한 성격을 띈다.\n",
        "rbf_kernel_std_svm = Pipeline([\n",
        "    ('std', StandardScaler()),\n",
        "    ('rbf_kernel_svm', SVC(kernel = 'rbf', gamma = 3, C = 0.001))\n",
        "])\n",
        "\n",
        "# 모델 학습\n",
        "rbf_kernel_std_svm.fit(x, y)"
      ],
      "metadata": {
        "id": "icAAEJm3n6_C",
        "colab": {
          "base_uri": "https://localhost:8080/"
        },
        "outputId": "789fbf46-5d61-4e6f-806d-40f8c56cddfb"
      },
      "execution_count": 11,
      "outputs": [
        {
          "output_type": "execute_result",
          "data": {
            "text/plain": [
              "Pipeline(steps=[('std', StandardScaler()),\n",
              "                ('rbf_kernel_svm', SVC(C=0.001, gamma=3))])"
            ]
          },
          "metadata": {},
          "execution_count": 11
        }
      ]
    }
  ]
}

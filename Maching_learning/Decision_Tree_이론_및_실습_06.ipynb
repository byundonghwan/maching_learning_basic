{
  "nbformat": 4,
  "nbformat_minor": 0,
  "metadata": {
    "colab": {
      "provenance": [],
      "authorship_tag": "ABX9TyP4NBWRddkoCLzkbTat1D/x",
      "include_colab_link": true
    },
    "kernelspec": {
      "name": "python3",
      "display_name": "Python 3"
    },
    "language_info": {
      "name": "python"
    }
  },
  "cells": [
    {
      "cell_type": "markdown",
      "metadata": {
        "id": "view-in-github",
        "colab_type": "text"
      },
      "source": [
        "<a href=\"https://colab.research.google.com/github/byundonghwan/maching_learning_basic/blob/main/Decision_Tree_%EC%9D%B4%EB%A1%A0_%EB%B0%8F_%EC%8B%A4%EC%8A%B5_06.ipynb\" target=\"_parent\"><img src=\"https://colab.research.google.com/assets/colab-badge.svg\" alt=\"Open In Colab\"/></a>"
      ]
    },
    {
      "cell_type": "code",
      "execution_count": 1,
      "metadata": {
        "id": "3Ir_eRwrj-qp",
        "colab": {
          "base_uri": "https://localhost:8080/"
        },
        "outputId": "1a52b961-b45d-4e55-c99e-388aa6b493fb"
      },
      "outputs": [
        {
          "output_type": "execute_result",
          "data": {
            "text/plain": [
              "0"
            ]
          },
          "metadata": {},
          "execution_count": 1
        }
      ],
      "source": [
        "# 의사결정 트리 구현.\n",
        "from sklearn.datasets import load_iris\n",
        "from sklearn.tree import DecisionTreeClassifier\n",
        "from sklearn.tree import export_graphviz # 결정 트리 시각화 라이브러리\n",
        "from subprocess import check_call # 라이드러리를 우리가 이해할 수 있도록 도와줌.\n",
        "\n",
        "iris = load_iris()\n",
        "x = iris.data[:, 2:] # 꽃잎의 길이, 너비 변수를 사용하겠음.\n",
        "y = iris.target\n",
        "\n",
        "# 사이킷런에서 제공하는 모델 => 모형 인스턴스 생성 -> 인스턴스.fit() [반복]\n",
        "# decision tree 모형 인스턴스 생성 및 하이퍼파라미터(depth) = 3\n",
        "tree_model = DecisionTreeClassifier(max_depth = 3)\n",
        "tree_model.fit(x, y)\n",
        "\n",
        "export_graphviz(\n",
        "    tree_model, # 학습한 모형\n",
        "    out_file = './iris_tree_model.dot', # .dot 파일 저장 위치\n",
        "    feature_names = iris.feature_names[2:], # 사용한 변수 이름\n",
        "    class_names = iris.target_names, # 예측할 타겟 클래스 이름\n",
        "    rounded = True, # 사각형 끝을 둥글게\n",
        "    filled = True, # 사각형 안 색깔 채우기 \n",
        ")\n",
        "\n",
        "# 예측한 모형 png로 바꿔서, 시각화 하기\n",
        "check_call(['dot', '-Tpng', 'iris_tree_model.dot', '-o', 'OutputFile.png'])"
      ]
    },
    {
      "cell_type": "code",
      "source": [
        "# decision tree 클래스 확률 추정. => 한 샘플이 특정 클래스에 속할 확률을 추정.\n",
        "tree_model.predict_proba([[3.1, 2]])\n",
        "\n",
        "tree_model.predict([[3.1, 2]])"
      ],
      "metadata": {
        "id": "04XbXPqGyVIF",
        "colab": {
          "base_uri": "https://localhost:8080/"
        },
        "outputId": "c1368f18-3ae4-4691-fc07-6c244d544f28"
      },
      "execution_count": 2,
      "outputs": [
        {
          "output_type": "execute_result",
          "data": {
            "text/plain": [
              "array([2])"
            ]
          },
          "metadata": {},
          "execution_count": 2
        }
      ]
    },
    {
      "cell_type": "code",
      "source": [
        "from numpy import True_\n",
        "# Decision Tree를 활용한 회귀\n",
        "from sklearn.tree import DecisionTreeRegressor\n",
        "\n",
        "# max_depth = 3\n",
        "tree_model = DecisionTreeRegressor(max_depth = 3)\n",
        "tree_model.fit(x, y)\n",
        "\n",
        "export_graphviz(\n",
        "    tree_model, # 학습한 모형\n",
        "    out_file = './iris_tree_model_reg.dot', # .dot 파일 저장 위치\n",
        "    feature_names = iris.feature_names[2:], # 사용한 변수 이름\n",
        "    rounded = True,\n",
        "    filled = True_ \n",
        ")\n",
        "\n",
        "# 예측한 모형 png로 바꿔서, 시각화 하기\n",
        "check_call(['dot', '-Tpng', 'iris_tree_model_reg.dot', '-o', 'OutputFile_reg.png'])"
      ],
      "metadata": {
        "id": "eagHZvOK6N95",
        "colab": {
          "base_uri": "https://localhost:8080/"
        },
        "outputId": "43536fd6-c68c-4d14-c041-d42e1f2df81c"
      },
      "execution_count": 3,
      "outputs": [
        {
          "output_type": "execute_result",
          "data": {
            "text/plain": [
              "0"
            ]
          },
          "metadata": {},
          "execution_count": 3
        }
      ]
    }
  ]
}
